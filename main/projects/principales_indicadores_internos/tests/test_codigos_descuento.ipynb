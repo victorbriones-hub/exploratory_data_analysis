{
 "cells": [
  {
   "cell_type": "code",
   "execution_count": null,
   "id": "aa61198e",
   "metadata": {},
   "outputs": [],
   "source": [
    "import pandas as pd\n",
    "import numpy as np\n",
    "import matplotlib.pyplot as plt\n",
    "from sqlalchemy import create_engine\n",
    "import seaborn as sns\n",
    "import json"
   ]
  },
  {
   "cell_type": "code",
   "execution_count": null,
   "id": "f84eac81",
   "metadata": {},
   "outputs": [],
   "source": [
    "plt.style.use('seaborn-v0_8-pastel')"
   ]
  },
  {
   "cell_type": "code",
   "execution_count": null,
   "id": "ac38cb89",
   "metadata": {},
   "outputs": [],
   "source": [
    "\n",
    "with open('../config/lyft_conection.json', 'r') as file:\n",
    "    credenciales_lyft = json.load(file)"
   ]
  },
  {
   "cell_type": "code",
   "execution_count": null,
   "id": "308ecfd1",
   "metadata": {},
   "outputs": [],
   "source": [
    "\n",
    "engine = create_engine(f\"mysql+pymysql://{credenciales_lyft['USERNAME']}:{credenciales_lyft['PASSWORD']}@{credenciales_lyft['SERVER']}/{credenciales_lyft['DATABASE']}\")"
   ]
  },
  {
   "cell_type": "code",
   "execution_count": null,
   "id": "4062d103",
   "metadata": {},
   "outputs": [],
   "source": [
    "fecha_inicio = '2025-01-01 00:00:00'\n",
    "fecha_fin = '2025-10-31 23:59:59'"
   ]
  },
  {
   "cell_type": "code",
   "execution_count": null,
   "id": "47f74e00",
   "metadata": {},
   "outputs": [],
   "source": [
    "sql_bike_payment_fact = f'''\n",
    "\n",
    "SELECT \n",
    "    \n",
    "FROM BikePaymentFact\n",
    "WHERE \n",
    "\tcreationDateTime BETWEEN UNIX_TIMESTAMP(CONVERT_TZ(\"{fecha_inicio}\", \"America/Mexico_City\", 'UTC'))*1000\n",
    "    AND UNIX_TIMESTAMP(CONVERT_TZ(\"{fecha_fin}\", \"America/Mexico_City\", 'UTC'))*1000;\n",
    "\n",
    "'''\n",
    "\n",
    "df_sql_bike_payment_fact = pd.read_sql(sql_bike_payment_fact, engine)\n",
    "df_sql_bike_payment_fact.head()"
   ]
  }
 ],
 "metadata": {
  "language_info": {
   "name": "python"
  }
 },
 "nbformat": 4,
 "nbformat_minor": 5
}
